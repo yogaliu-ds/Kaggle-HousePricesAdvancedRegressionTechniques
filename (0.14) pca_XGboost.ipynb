{
  "nbformat": 4,
  "nbformat_minor": 0,
  "metadata": {
    "colab": {
      "name": "House_prices.ipynb",
      "provenance": [],
      "mount_file_id": "1A904KH-prVyGzBK0nrcYVp91v--do8g8",
      "authorship_tag": "ABX9TyNlRD4aL2O/LWulCyCdUJ31",
      "include_colab_link": true
    },
    "kernelspec": {
      "name": "python3",
      "display_name": "Python 3"
    },
    "language_info": {
      "name": "python"
    }
  },
  "cells": [
    {
      "cell_type": "markdown",
      "metadata": {
        "id": "view-in-github",
        "colab_type": "text"
      },
      "source": [
        "<a href=\"https://colab.research.google.com/github/yogaliu-ds/kaggle_House-Prices/blob/main/(0.14)%20pca_XGboost.ipynb\" target=\"_parent\"><img src=\"https://colab.research.google.com/assets/colab-badge.svg\" alt=\"Open In Colab\"/></a>"
      ]
    },
    {
      "cell_type": "markdown",
      "metadata": {
        "id": "wb9zlXMjItLV"
      },
      "source": [
        "# 1. Import modules and data"
      ]
    },
    {
      "cell_type": "code",
      "metadata": {
        "id": "J1YouwH84RHF",
        "colab": {
          "base_uri": "https://localhost:8080/"
        },
        "outputId": "fbb9812c-94a9-4797-eff7-4c592bf966fa"
      },
      "source": [
        "# Connect to the google drive\n",
        "from google.colab import drive\n",
        "drive.mount('/content/drive')"
      ],
      "execution_count": 308,
      "outputs": [
        {
          "output_type": "stream",
          "name": "stdout",
          "text": [
            "Drive already mounted at /content/drive; to attempt to forcibly remount, call drive.mount(\"/content/drive\", force_remount=True).\n"
          ]
        }
      ]
    },
    {
      "cell_type": "code",
      "metadata": {
        "id": "n7YtHkGV33Jl"
      },
      "source": [
        "import pandas as pd\n",
        "import numpy as np\n",
        "\n",
        "# PCA\n",
        "from sklearn.decomposition import PCA\n",
        "\n",
        "# Train_test_split\n",
        "from sklearn.model_selection import train_test_split\n",
        "\n",
        "# Transformer\n",
        "from sklearn.preprocessing import StandardScaler, MinMaxScaler\n",
        "\n",
        "# Model\n",
        "from sklearn.ensemble import RandomForestRegressor\n",
        "from sklearn.svm import NuSVR, SVR\n",
        "import xgboost as xgb\n",
        "\n",
        "# pipeline\n",
        "from sklearn.pipeline import make_pipeline\n",
        "\n",
        "# Loss Measure\n",
        "from sklearn.metrics import mean_squared_log_error\n",
        "\n",
        "# Visualization\n",
        "import seaborn as sns\n",
        "import matplotlib.pyplot as plt\n",
        "\n",
        "# Data\n",
        "train = pd.read_csv('/content/drive/MyDrive/Kaggle/House Prices/train.csv')\n",
        "test = pd.read_csv('/content/drive/MyDrive/Kaggle/House Prices/test.csv')\n"
      ],
      "execution_count": 309,
      "outputs": []
    },
    {
      "cell_type": "code",
      "metadata": {
        "id": "Y7BT3Y6C4ILh",
        "colab": {
          "base_uri": "https://localhost:8080/"
        },
        "outputId": "9f0c1f56-6c49-4976-c0f8-4ebb3897bdd6"
      },
      "source": [
        "# Oh, God, there are so many features\n",
        "print(train.columns)\n",
        "print(train.shape)\n",
        "print(train.info())"
      ],
      "execution_count": 310,
      "outputs": [
        {
          "output_type": "stream",
          "name": "stdout",
          "text": [
            "Index(['Id', 'MSSubClass', 'MSZoning', 'LotFrontage', 'LotArea', 'Street',\n",
            "       'Alley', 'LotShape', 'LandContour', 'Utilities', 'LotConfig',\n",
            "       'LandSlope', 'Neighborhood', 'Condition1', 'Condition2', 'BldgType',\n",
            "       'HouseStyle', 'OverallQual', 'OverallCond', 'YearBuilt', 'YearRemodAdd',\n",
            "       'RoofStyle', 'RoofMatl', 'Exterior1st', 'Exterior2nd', 'MasVnrType',\n",
            "       'MasVnrArea', 'ExterQual', 'ExterCond', 'Foundation', 'BsmtQual',\n",
            "       'BsmtCond', 'BsmtExposure', 'BsmtFinType1', 'BsmtFinSF1',\n",
            "       'BsmtFinType2', 'BsmtFinSF2', 'BsmtUnfSF', 'TotalBsmtSF', 'Heating',\n",
            "       'HeatingQC', 'CentralAir', 'Electrical', '1stFlrSF', '2ndFlrSF',\n",
            "       'LowQualFinSF', 'GrLivArea', 'BsmtFullBath', 'BsmtHalfBath', 'FullBath',\n",
            "       'HalfBath', 'BedroomAbvGr', 'KitchenAbvGr', 'KitchenQual',\n",
            "       'TotRmsAbvGrd', 'Functional', 'Fireplaces', 'FireplaceQu', 'GarageType',\n",
            "       'GarageYrBlt', 'GarageFinish', 'GarageCars', 'GarageArea', 'GarageQual',\n",
            "       'GarageCond', 'PavedDrive', 'WoodDeckSF', 'OpenPorchSF',\n",
            "       'EnclosedPorch', '3SsnPorch', 'ScreenPorch', 'PoolArea', 'PoolQC',\n",
            "       'Fence', 'MiscFeature', 'MiscVal', 'MoSold', 'YrSold', 'SaleType',\n",
            "       'SaleCondition', 'SalePrice'],\n",
            "      dtype='object')\n",
            "(1460, 81)\n",
            "<class 'pandas.core.frame.DataFrame'>\n",
            "RangeIndex: 1460 entries, 0 to 1459\n",
            "Data columns (total 81 columns):\n",
            " #   Column         Non-Null Count  Dtype  \n",
            "---  ------         --------------  -----  \n",
            " 0   Id             1460 non-null   int64  \n",
            " 1   MSSubClass     1460 non-null   int64  \n",
            " 2   MSZoning       1460 non-null   object \n",
            " 3   LotFrontage    1201 non-null   float64\n",
            " 4   LotArea        1460 non-null   int64  \n",
            " 5   Street         1460 non-null   object \n",
            " 6   Alley          91 non-null     object \n",
            " 7   LotShape       1460 non-null   object \n",
            " 8   LandContour    1460 non-null   object \n",
            " 9   Utilities      1460 non-null   object \n",
            " 10  LotConfig      1460 non-null   object \n",
            " 11  LandSlope      1460 non-null   object \n",
            " 12  Neighborhood   1460 non-null   object \n",
            " 13  Condition1     1460 non-null   object \n",
            " 14  Condition2     1460 non-null   object \n",
            " 15  BldgType       1460 non-null   object \n",
            " 16  HouseStyle     1460 non-null   object \n",
            " 17  OverallQual    1460 non-null   int64  \n",
            " 18  OverallCond    1460 non-null   int64  \n",
            " 19  YearBuilt      1460 non-null   int64  \n",
            " 20  YearRemodAdd   1460 non-null   int64  \n",
            " 21  RoofStyle      1460 non-null   object \n",
            " 22  RoofMatl       1460 non-null   object \n",
            " 23  Exterior1st    1460 non-null   object \n",
            " 24  Exterior2nd    1460 non-null   object \n",
            " 25  MasVnrType     1452 non-null   object \n",
            " 26  MasVnrArea     1452 non-null   float64\n",
            " 27  ExterQual      1460 non-null   object \n",
            " 28  ExterCond      1460 non-null   object \n",
            " 29  Foundation     1460 non-null   object \n",
            " 30  BsmtQual       1423 non-null   object \n",
            " 31  BsmtCond       1423 non-null   object \n",
            " 32  BsmtExposure   1422 non-null   object \n",
            " 33  BsmtFinType1   1423 non-null   object \n",
            " 34  BsmtFinSF1     1460 non-null   int64  \n",
            " 35  BsmtFinType2   1422 non-null   object \n",
            " 36  BsmtFinSF2     1460 non-null   int64  \n",
            " 37  BsmtUnfSF      1460 non-null   int64  \n",
            " 38  TotalBsmtSF    1460 non-null   int64  \n",
            " 39  Heating        1460 non-null   object \n",
            " 40  HeatingQC      1460 non-null   object \n",
            " 41  CentralAir     1460 non-null   object \n",
            " 42  Electrical     1459 non-null   object \n",
            " 43  1stFlrSF       1460 non-null   int64  \n",
            " 44  2ndFlrSF       1460 non-null   int64  \n",
            " 45  LowQualFinSF   1460 non-null   int64  \n",
            " 46  GrLivArea      1460 non-null   int64  \n",
            " 47  BsmtFullBath   1460 non-null   int64  \n",
            " 48  BsmtHalfBath   1460 non-null   int64  \n",
            " 49  FullBath       1460 non-null   int64  \n",
            " 50  HalfBath       1460 non-null   int64  \n",
            " 51  BedroomAbvGr   1460 non-null   int64  \n",
            " 52  KitchenAbvGr   1460 non-null   int64  \n",
            " 53  KitchenQual    1460 non-null   object \n",
            " 54  TotRmsAbvGrd   1460 non-null   int64  \n",
            " 55  Functional     1460 non-null   object \n",
            " 56  Fireplaces     1460 non-null   int64  \n",
            " 57  FireplaceQu    770 non-null    object \n",
            " 58  GarageType     1379 non-null   object \n",
            " 59  GarageYrBlt    1379 non-null   float64\n",
            " 60  GarageFinish   1379 non-null   object \n",
            " 61  GarageCars     1460 non-null   int64  \n",
            " 62  GarageArea     1460 non-null   int64  \n",
            " 63  GarageQual     1379 non-null   object \n",
            " 64  GarageCond     1379 non-null   object \n",
            " 65  PavedDrive     1460 non-null   object \n",
            " 66  WoodDeckSF     1460 non-null   int64  \n",
            " 67  OpenPorchSF    1460 non-null   int64  \n",
            " 68  EnclosedPorch  1460 non-null   int64  \n",
            " 69  3SsnPorch      1460 non-null   int64  \n",
            " 70  ScreenPorch    1460 non-null   int64  \n",
            " 71  PoolArea       1460 non-null   int64  \n",
            " 72  PoolQC         7 non-null      object \n",
            " 73  Fence          281 non-null    object \n",
            " 74  MiscFeature    54 non-null     object \n",
            " 75  MiscVal        1460 non-null   int64  \n",
            " 76  MoSold         1460 non-null   int64  \n",
            " 77  YrSold         1460 non-null   int64  \n",
            " 78  SaleType       1460 non-null   object \n",
            " 79  SaleCondition  1460 non-null   object \n",
            " 80  SalePrice      1460 non-null   int64  \n",
            "dtypes: float64(3), int64(35), object(43)\n",
            "memory usage: 924.0+ KB\n",
            "None\n"
          ]
        }
      ]
    },
    {
      "cell_type": "markdown",
      "metadata": {
        "id": "wDMU2x7IImKO"
      },
      "source": [
        "# 2. Getting to know your data"
      ]
    },
    {
      "cell_type": "code",
      "metadata": {
        "id": "dMdaaA3KJBrx"
      },
      "source": [
        "plt.style.use('seaborn')"
      ],
      "execution_count": 50,
      "outputs": []
    },
    {
      "cell_type": "code",
      "metadata": {
        "colab": {
          "base_uri": "https://localhost:8080/"
        },
        "id": "_lnS3ebzh57A",
        "outputId": "612cb260-a580-4df6-9cd0-7c932e4d1855"
      },
      "source": [
        "# SalePrice \n",
        "k = train.SalePrice.describe()\n",
        "print(k)"
      ],
      "execution_count": 51,
      "outputs": [
        {
          "output_type": "stream",
          "name": "stdout",
          "text": [
            "count      1460.000000\n",
            "mean     180921.195890\n",
            "std       79442.502883\n",
            "min       34900.000000\n",
            "25%      129975.000000\n",
            "50%      163000.000000\n",
            "75%      214000.000000\n",
            "max      755000.000000\n",
            "Name: SalePrice, dtype: float64\n"
          ]
        }
      ]
    },
    {
      "cell_type": "code",
      "metadata": {
        "colab": {
          "base_uri": "https://localhost:8080/"
        },
        "id": "aTrQyG-s47N5",
        "outputId": "3f14165b-9196-414c-c9ed-4de43f4d4e47"
      },
      "source": [
        "# Find missing value\n",
        "se = train.isna().sum()\n",
        "se = se[se!=0]\n",
        "print(se.sort_values(ascending=False))"
      ],
      "execution_count": 29,
      "outputs": [
        {
          "output_type": "stream",
          "name": "stdout",
          "text": [
            "PoolQC          1453\n",
            "MiscFeature     1406\n",
            "Alley           1369\n",
            "Fence           1179\n",
            "FireplaceQu      690\n",
            "LotFrontage      259\n",
            "GarageType        81\n",
            "GarageYrBlt       81\n",
            "GarageFinish      81\n",
            "GarageQual        81\n",
            "GarageCond        81\n",
            "BsmtExposure      38\n",
            "BsmtFinType2      38\n",
            "BsmtFinType1      37\n",
            "BsmtCond          37\n",
            "BsmtQual          37\n",
            "MasVnrArea         8\n",
            "MasVnrType         8\n",
            "Electrical         1\n",
            "dtype: int64\n"
          ]
        }
      ]
    },
    {
      "cell_type": "code",
      "metadata": {
        "colab": {
          "base_uri": "https://localhost:8080/",
          "height": 376
        },
        "id": "gHIhBpdCNWnt",
        "outputId": "f325274c-34fe-40a9-e269-e2a5c5d06069"
      },
      "source": [
        "# Check features with many missing value\n",
        "# PoolQC : PoolQC doesn't have many value, but I assume that it's a strong indicator when it has value 'Ex'.\n",
        "k=train\n",
        "k.PoolQC = k.PoolQC.fillna('None')\n",
        "k = k.groupby('PoolQC')['SalePrice'].mean().sort_values()\n",
        "sns.barplot(x=k.index, y=k)\n",
        "plt.title('Mean SalePrice')\n",
        "plt.show()"
      ],
      "execution_count": 30,
      "outputs": [
        {
          "output_type": "display_data",
          "data": {
            "image/png": "[encoded data removed]",
            "text/plain": [
              "<Figure size 576x396 with 1 Axes>"
            ]
          },
          "metadata": {}
        }
      ]
    },
    {
      "cell_type": "code",
      "metadata": {
        "colab": {
          "base_uri": "https://localhost:8080/",
          "height": 467
        },
        "id": "Fi8nDt49Si8C",
        "outputId": "fafb14ac-5249-47fd-b5f3-47605f558692"
      },
      "source": [
        "# MiscFeature : Looks like other feature isn't adorable in general\n",
        "k= train\n",
        "k.MiscFeature = (k.MiscFeature.isna() ==False)\n",
        "print(k.MiscFeature.sum())\n",
        "k = k.groupby('MiscFeature')['SalePrice'].mean()\n",
        "k = k.replace({True:'True', False:'False'})\n",
        "print(k)\n",
        "sns.barplot(x=k.index, y=k)\n",
        "plt.title('Mean SalePrice')\n",
        "plt.show()"
      ],
      "execution_count": 31,
      "outputs": [
        {
          "output_type": "stream",
          "name": "stdout",
          "text": [
            "54\n",
            "MiscFeature\n",
            "False    182046.410384\n",
            "True     151623.944444\n",
            "Name: SalePrice, dtype: float64\n"
          ]
        },
        {
          "output_type": "display_data",
          "data": {
            "image/png": "[encoded data removed]",
            "text/plain": [
              "<Figure size 576x396 with 1 Axes>"
            ]
          },
          "metadata": {}
        }
      ]
    },
    {
      "cell_type": "code",
      "metadata": {
        "colab": {
          "base_uri": "https://localhost:8080/",
          "height": 379
        },
        "id": "d_2NpMteXuf4",
        "outputId": "e7bee16f-7246-4562-94a0-21249e9f4996"
      },
      "source": [
        "# Let's see in different categorizing. It's more clear.\n",
        "k = train\n",
        "k.MiscFeature = k.MiscFeature.fillna('None')\n",
        "k = k.groupby('MiscFeature')['SalePrice'].mean().sort_values()\n",
        "sns.barplot(x=k.index, y=k)"
      ],
      "execution_count": 32,
      "outputs": [
        {
          "output_type": "execute_result",
          "data": {
            "text/plain": [
              "<matplotlib.axes._subplots.AxesSubplot at 0x7f75546c6ad0>"
            ]
          },
          "metadata": {},
          "execution_count": 32
        },
        {
          "output_type": "display_data",
          "data": {
            "image/png": "[encoded data removed]",
            "text/plain": [
              "<Figure size 576x396 with 1 Axes>"
            ]
          },
          "metadata": {}
        }
      ]
    },
    {
      "cell_type": "code",
      "metadata": {
        "colab": {
          "base_uri": "https://localhost:8080/",
          "height": 345
        },
        "id": "RZ2LpJ8_DZE7",
        "outputId": "c38112dd-4a85-47e4-fb49-bfa09a19b568"
      },
      "source": [
        "# Alley\n",
        "def make_autopct(values):\n",
        "    def my_autopct(pct):\n",
        "        total = sum(values)\n",
        "        val = int(round(pct*total/100.0))\n",
        "        return '{p:.2f}%  ({v:d})'.format(p=pct,v=val)\n",
        "    return my_autopct\n",
        "\n",
        "k=train\n",
        "k.Alley = k.Alley.fillna('None')\n",
        "k = k.Alley.value_counts()\n",
        "plt.pie(x=k, labels=k.index, autopct=make_autopct(k))\n",
        "plt.title('Alley Distribution')\n",
        "plt.show()"
      ],
      "execution_count": 33,
      "outputs": [
        {
          "output_type": "display_data",
          "data": {
            "image/png": "[encoded data removed]",
            "text/plain": [
              "<Figure size 576x396 with 1 Axes>"
            ]
          },
          "metadata": {}
        }
      ]
    },
    {
      "cell_type": "code",
      "metadata": {
        "colab": {
          "base_uri": "https://localhost:8080/",
          "height": 467
        },
        "id": "y5l-8SmJH_Jd",
        "outputId": "6c3d0f9f-dc88-47e2-a3ed-119f9633c2b0"
      },
      "source": [
        "# Alley \n",
        "k = train\n",
        "k = k.groupby('Alley')['SalePrice'].mean().sort_values(ascending =False)\n",
        "print(k)\n",
        "sns.barplot(x=k.index, y=k)\n",
        "plt.title('Mean Price')\n",
        "plt.show()"
      ],
      "execution_count": 34,
      "outputs": [
        {
          "output_type": "stream",
          "name": "stdout",
          "text": [
            "Alley\n",
            "None    183452.131483\n",
            "Pave    168000.585366\n",
            "Grvl    122219.080000\n",
            "Name: SalePrice, dtype: float64\n"
          ]
        },
        {
          "output_type": "display_data",
          "data": {
            "image/png": "[encoded data removed]",
            "text/plain": [
              "<Figure size 576x396 with 1 Axes>"
            ]
          },
          "metadata": {}
        }
      ]
    },
    {
      "cell_type": "code",
      "metadata": {
        "colab": {
          "base_uri": "https://localhost:8080/",
          "height": 382
        },
        "id": "EQOdOLgz-yJb",
        "outputId": "beec81ad-c993-4c9f-cd72-dcbb640df7c2"
      },
      "source": [
        "# Fence : See the order, It's interesting.\n",
        "k = train\n",
        "k.Fence = k.Fence.fillna('None')\n",
        "k = k.groupby('Fence')['SalePrice'].mean().sort_values()\n",
        "sns.lineplot(x=k.index, y=k)"
      ],
      "execution_count": 35,
      "outputs": [
        {
          "output_type": "execute_result",
          "data": {
            "text/plain": [
              "<matplotlib.axes._subplots.AxesSubplot at 0x7f75549ecf10>"
            ]
          },
          "metadata": {},
          "execution_count": 35
        },
        {
          "output_type": "display_data",
          "data": {
            "image/png": "[encoded data removed]",
            "text/plain": [
              "<Figure size 576x396 with 1 Axes>"
            ]
          },
          "metadata": {}
        }
      ]
    },
    {
      "cell_type": "code",
      "metadata": {
        "colab": {
          "base_uri": "https://localhost:8080/",
          "height": 452
        },
        "id": "adjGci6Ko7FS",
        "outputId": "92adaf57-1d51-4048-b91f-6b51767e7415"
      },
      "source": [
        "# LotFrontage\n",
        "k = train[['LotFrontage', 'SalePrice']]\n",
        "k.dropna(inplace=True)\n",
        "k.isna().sum()\n",
        "\n",
        "# scatterplot with regression line\n",
        "x = k.LotFrontage\n",
        "y = k.SalePrice\n",
        "\n",
        "sns.scatterplot(x=x, y=y)\n",
        "m, b = np.polyfit(x, y, 1)\n",
        "\n",
        "plt.plot(x, m*x+b)\n",
        "plt.show()"
      ],
      "execution_count": 36,
      "outputs": [
        {
          "output_type": "stream",
          "name": "stderr",
          "text": [
            "/usr/local/lib/python3.7/dist-packages/pandas/util/_decorators.py:311: SettingWithCopyWarning: \n",
            "A value is trying to be set on a copy of a slice from a DataFrame\n",
            "\n",
            "See the caveats in the documentation: https://pandas.pydata.org/pandas-docs/stable/user_guide/indexing.html#returning-a-view-versus-a-copy\n",
            "  return func(*args, **kwargs)\n"
          ]
        },
        {
          "output_type": "display_data",
          "data": {
            "image/png": "[encoded data removed]",
            "text/plain": [
              "<Figure size 576x396 with 1 Axes>"
            ]
          },
          "metadata": {}
        }
      ]
    },
    {
      "cell_type": "code",
      "metadata": {
        "id": "QhqxkqKHi6zU"
      },
      "source": [
        "# Month and Year\n"
      ],
      "execution_count": 37,
      "outputs": []
    },
    {
      "cell_type": "markdown",
      "metadata": {
        "id": "3pKpbweqLB-O"
      },
      "source": [
        "# 3. Data preprocessing"
      ]
    },
    {
      "cell_type": "code",
      "source": [
        "# Drop the feaures with too many missing value\n",
        "print(train.shape)\n",
        "train = train.drop(['Id', 'PoolQC', 'MiscFeature', 'Alley', 'Fence', 'FireplaceQu', 'LotFrontage'], 1)\n",
        "\n",
        "print(train.shape)"
      ],
      "metadata": {
        "colab": {
          "base_uri": "https://localhost:8080/"
        },
        "id": "gV63eOScOPPY",
        "outputId": "dc1e06f4-3f8b-40ab-ecda-d37ce7a602c2"
      },
      "execution_count": 311,
      "outputs": [
        {
          "output_type": "stream",
          "name": "stdout",
          "text": [
            "(1460, 81)\n",
            "(1460, 74)\n"
          ]
        },
        {
          "output_type": "stream",
          "name": "stderr",
          "text": [
            "/usr/local/lib/python3.7/dist-packages/ipykernel_launcher.py:3: FutureWarning: In a future version of pandas all arguments of DataFrame.drop except for the argument 'labels' will be keyword-only\n",
            "  This is separate from the ipykernel package so we can avoid doing imports until\n"
          ]
        }
      ]
    },
    {
      "cell_type": "code",
      "source": [
        "print(train.info())"
      ],
      "metadata": {
        "colab": {
          "base_uri": "https://localhost:8080/"
        },
        "id": "jAmXB1VcW-Bw",
        "outputId": "6312306b-6072-4728-9ef7-bae2ca53dd6e"
      },
      "execution_count": 312,
      "outputs": [
        {
          "output_type": "stream",
          "name": "stdout",
          "text": [
            "<class 'pandas.core.frame.DataFrame'>\n",
            "RangeIndex: 1460 entries, 0 to 1459\n",
            "Data columns (total 74 columns):\n",
            " #   Column         Non-Null Count  Dtype  \n",
            "---  ------         --------------  -----  \n",
            " 0   MSSubClass     1460 non-null   int64  \n",
            " 1   MSZoning       1460 non-null   object \n",
            " 2   LotArea        1460 non-null   int64  \n",
            " 3   Street         1460 non-null   object \n",
            " 4   LotShape       1460 non-null   object \n",
            " 5   LandContour    1460 non-null   object \n",
            " 6   Utilities      1460 non-null   object \n",
            " 7   LotConfig      1460 non-null   object \n",
            " 8   LandSlope      1460 non-null   object \n",
            " 9   Neighborhood   1460 non-null   object \n",
            " 10  Condition1     1460 non-null   object \n",
            " 11  Condition2     1460 non-null   object \n",
            " 12  BldgType       1460 non-null   object \n",
            " 13  HouseStyle     1460 non-null   object \n",
            " 14  OverallQual    1460 non-null   int64  \n",
            " 15  OverallCond    1460 non-null   int64  \n",
            " 16  YearBuilt      1460 non-null   int64  \n",
            " 17  YearRemodAdd   1460 non-null   int64  \n",
            " 18  RoofStyle      1460 non-null   object \n",
            " 19  RoofMatl       1460 non-null   object \n",
            " 20  Exterior1st    1460 non-null   object \n",
            " 21  Exterior2nd    1460 non-null   object \n",
            " 22  MasVnrType     1452 non-null   object \n",
            " 23  MasVnrArea     1452 non-null   float64\n",
            " 24  ExterQual      1460 non-null   object \n",
            " 25  ExterCond      1460 non-null   object \n",
            " 26  Foundation     1460 non-null   object \n",
            " 27  BsmtQual       1423 non-null   object \n",
            " 28  BsmtCond       1423 non-null   object \n",
            " 29  BsmtExposure   1422 non-null   object \n",
            " 30  BsmtFinType1   1423 non-null   object \n",
            " 31  BsmtFinSF1     1460 non-null   int64  \n",
            " 32  BsmtFinType2   1422 non-null   object \n",
            " 33  BsmtFinSF2     1460 non-null   int64  \n",
            " 34  BsmtUnfSF      1460 non-null   int64  \n",
            " 35  TotalBsmtSF    1460 non-null   int64  \n",
            " 36  Heating        1460 non-null   object \n",
            " 37  HeatingQC      1460 non-null   object \n",
            " 38  CentralAir     1460 non-null   object \n",
            " 39  Electrical     1459 non-null   object \n",
            " 40  1stFlrSF       1460 non-null   int64  \n",
            " 41  2ndFlrSF       1460 non-null   int64  \n",
            " 42  LowQualFinSF   1460 non-null   int64  \n",
            " 43  GrLivArea      1460 non-null   int64  \n",
            " 44  BsmtFullBath   1460 non-null   int64  \n",
            " 45  BsmtHalfBath   1460 non-null   int64  \n",
            " 46  FullBath       1460 non-null   int64  \n",
            " 47  HalfBath       1460 non-null   int64  \n",
            " 48  BedroomAbvGr   1460 non-null   int64  \n",
            " 49  KitchenAbvGr   1460 non-null   int64  \n",
            " 50  KitchenQual    1460 non-null   object \n",
            " 51  TotRmsAbvGrd   1460 non-null   int64  \n",
            " 52  Functional     1460 non-null   object \n",
            " 53  Fireplaces     1460 non-null   int64  \n",
            " 54  GarageType     1379 non-null   object \n",
            " 55  GarageYrBlt    1379 non-null   float64\n",
            " 56  GarageFinish   1379 non-null   object \n",
            " 57  GarageCars     1460 non-null   int64  \n",
            " 58  GarageArea     1460 non-null   int64  \n",
            " 59  GarageQual     1379 non-null   object \n",
            " 60  GarageCond     1379 non-null   object \n",
            " 61  PavedDrive     1460 non-null   object \n",
            " 62  WoodDeckSF     1460 non-null   int64  \n",
            " 63  OpenPorchSF    1460 non-null   int64  \n",
            " 64  EnclosedPorch  1460 non-null   int64  \n",
            " 65  3SsnPorch      1460 non-null   int64  \n",
            " 66  ScreenPorch    1460 non-null   int64  \n",
            " 67  PoolArea       1460 non-null   int64  \n",
            " 68  MiscVal        1460 non-null   int64  \n",
            " 69  MoSold         1460 non-null   int64  \n",
            " 70  YrSold         1460 non-null   int64  \n",
            " 71  SaleType       1460 non-null   object \n",
            " 72  SaleCondition  1460 non-null   object \n",
            " 73  SalePrice      1460 non-null   int64  \n",
            "dtypes: float64(2), int64(34), object(38)\n",
            "memory usage: 844.2+ KB\n",
            "None\n"
          ]
        }
      ]
    },
    {
      "cell_type": "code",
      "metadata": {
        "id": "JqVgy8uuP2m9"
      },
      "source": [
        "# Those featrues with NaN meaning None\n",
        "na_list = ['BsmtQual', 'BsmtCond', 'BsmtExposure', 'BsmtFinType1', 'BsmtFinType2', 'GarageType', 'GarageFinish', 'GarageQual', 'GarageCond', 'GarageYrBlt']\n",
        "for col in na_list:\n",
        "  train[col] = train[col].fillna('NA')\n",
        "\n",
        "# Setting 'NA' is just for convenience. If we want to be more accurate, we should use other statistics."
      ],
      "execution_count": 313,
      "outputs": []
    },
    {
      "cell_type": "code",
      "metadata": {
        "id": "sMeemVcPurzo"
      },
      "source": [
        "# Electrical, MasVnrArea, MasVnrType : Few missing value, so we just drop that row\n",
        "train.dropna(subset=['Electrical', 'MasVnrType', 'MasVnrArea'], inplace=True)\n"
      ],
      "execution_count": 314,
      "outputs": []
    },
    {
      "cell_type": "code",
      "metadata": {
        "colab": {
          "base_uri": "https://localhost:8080/"
        },
        "id": "QLDEyZfjvcLk",
        "outputId": "e34431cb-2bd6-4c18-e702-d5f27859925a"
      },
      "source": [
        "# Done with missing value, Double Check\n",
        "print(train.isna().sum()[train.isna().sum()!=0])\n",
        "print(train.shape)"
      ],
      "execution_count": 315,
      "outputs": [
        {
          "output_type": "stream",
          "name": "stdout",
          "text": [
            "Series([], dtype: int64)\n",
            "(1451, 74)\n"
          ]
        }
      ]
    },
    {
      "cell_type": "code",
      "metadata": {
        "id": "uWGVoQnDyGBG",
        "colab": {
          "base_uri": "https://localhost:8080/"
        },
        "outputId": "5244e8b2-c13f-49c5-92e4-dcfa87c43fc2"
      },
      "source": [
        "# Dealing with dtype\n",
        "# MSSubClass : should be category\n",
        "train.MSSubClass = train.MSSubClass.astype('category')\n",
        "print(train.MSSubClass.dtype)"
      ],
      "execution_count": 316,
      "outputs": [
        {
          "output_type": "stream",
          "name": "stdout",
          "text": [
            "category\n"
          ]
        }
      ]
    },
    {
      "cell_type": "code",
      "metadata": {
        "id": "VrMC_aa15IYs"
      },
      "source": [
        "# YrSold, MoSold\n",
        "for col in ['YrSold', 'MoSold']:\n",
        "  train[col] = train[col].astype(str)"
      ],
      "execution_count": 317,
      "outputs": []
    },
    {
      "cell_type": "code",
      "source": [
        "print(train.info())"
      ],
      "metadata": {
        "colab": {
          "base_uri": "https://localhost:8080/"
        },
        "id": "mH8kcA2dcTJ7",
        "outputId": "56a523e2-1c09-4bde-ec12-19e43a639845"
      },
      "execution_count": 318,
      "outputs": [
        {
          "output_type": "stream",
          "name": "stdout",
          "text": [
            "<class 'pandas.core.frame.DataFrame'>\n",
            "Int64Index: 1451 entries, 0 to 1459\n",
            "Data columns (total 74 columns):\n",
            " #   Column         Non-Null Count  Dtype   \n",
            "---  ------         --------------  -----   \n",
            " 0   MSSubClass     1451 non-null   category\n",
            " 1   MSZoning       1451 non-null   object  \n",
            " 2   LotArea        1451 non-null   int64   \n",
            " 3   Street         1451 non-null   object  \n",
            " 4   LotShape       1451 non-null   object  \n",
            " 5   LandContour    1451 non-null   object  \n",
            " 6   Utilities      1451 non-null   object  \n",
            " 7   LotConfig      1451 non-null   object  \n",
            " 8   LandSlope      1451 non-null   object  \n",
            " 9   Neighborhood   1451 non-null   object  \n",
            " 10  Condition1     1451 non-null   object  \n",
            " 11  Condition2     1451 non-null   object  \n",
            " 12  BldgType       1451 non-null   object  \n",
            " 13  HouseStyle     1451 non-null   object  \n",
            " 14  OverallQual    1451 non-null   int64   \n",
            " 15  OverallCond    1451 non-null   int64   \n",
            " 16  YearBuilt      1451 non-null   int64   \n",
            " 17  YearRemodAdd   1451 non-null   int64   \n",
            " 18  RoofStyle      1451 non-null   object  \n",
            " 19  RoofMatl       1451 non-null   object  \n",
            " 20  Exterior1st    1451 non-null   object  \n",
            " 21  Exterior2nd    1451 non-null   object  \n",
            " 22  MasVnrType     1451 non-null   object  \n",
            " 23  MasVnrArea     1451 non-null   float64 \n",
            " 24  ExterQual      1451 non-null   object  \n",
            " 25  ExterCond      1451 non-null   object  \n",
            " 26  Foundation     1451 non-null   object  \n",
            " 27  BsmtQual       1451 non-null   object  \n",
            " 28  BsmtCond       1451 non-null   object  \n",
            " 29  BsmtExposure   1451 non-null   object  \n",
            " 30  BsmtFinType1   1451 non-null   object  \n",
            " 31  BsmtFinSF1     1451 non-null   int64   \n",
            " 32  BsmtFinType2   1451 non-null   object  \n",
            " 33  BsmtFinSF2     1451 non-null   int64   \n",
            " 34  BsmtUnfSF      1451 non-null   int64   \n",
            " 35  TotalBsmtSF    1451 non-null   int64   \n",
            " 36  Heating        1451 non-null   object  \n",
            " 37  HeatingQC      1451 non-null   object  \n",
            " 38  CentralAir     1451 non-null   object  \n",
            " 39  Electrical     1451 non-null   object  \n",
            " 40  1stFlrSF       1451 non-null   int64   \n",
            " 41  2ndFlrSF       1451 non-null   int64   \n",
            " 42  LowQualFinSF   1451 non-null   int64   \n",
            " 43  GrLivArea      1451 non-null   int64   \n",
            " 44  BsmtFullBath   1451 non-null   int64   \n",
            " 45  BsmtHalfBath   1451 non-null   int64   \n",
            " 46  FullBath       1451 non-null   int64   \n",
            " 47  HalfBath       1451 non-null   int64   \n",
            " 48  BedroomAbvGr   1451 non-null   int64   \n",
            " 49  KitchenAbvGr   1451 non-null   int64   \n",
            " 50  KitchenQual    1451 non-null   object  \n",
            " 51  TotRmsAbvGrd   1451 non-null   int64   \n",
            " 52  Functional     1451 non-null   object  \n",
            " 53  Fireplaces     1451 non-null   int64   \n",
            " 54  GarageType     1451 non-null   object  \n",
            " 55  GarageYrBlt    1451 non-null   object  \n",
            " 56  GarageFinish   1451 non-null   object  \n",
            " 57  GarageCars     1451 non-null   int64   \n",
            " 58  GarageArea     1451 non-null   int64   \n",
            " 59  GarageQual     1451 non-null   object  \n",
            " 60  GarageCond     1451 non-null   object  \n",
            " 61  PavedDrive     1451 non-null   object  \n",
            " 62  WoodDeckSF     1451 non-null   int64   \n",
            " 63  OpenPorchSF    1451 non-null   int64   \n",
            " 64  EnclosedPorch  1451 non-null   int64   \n",
            " 65  3SsnPorch      1451 non-null   int64   \n",
            " 66  ScreenPorch    1451 non-null   int64   \n",
            " 67  PoolArea       1451 non-null   int64   \n",
            " 68  MiscVal        1451 non-null   int64   \n",
            " 69  MoSold         1451 non-null   object  \n",
            " 70  YrSold         1451 non-null   object  \n",
            " 71  SaleType       1451 non-null   object  \n",
            " 72  SaleCondition  1451 non-null   object  \n",
            " 73  SalePrice      1451 non-null   int64   \n",
            "dtypes: category(1), float64(1), int64(31), object(41)\n",
            "memory usage: 840.9+ KB\n",
            "None\n"
          ]
        }
      ]
    },
    {
      "cell_type": "markdown",
      "metadata": {
        "id": "eXZRJLCNe32-"
      },
      "source": [
        "# 4. Modeling"
      ]
    },
    {
      "cell_type": "code",
      "metadata": {
        "id": "xkjIqEgyHzbK",
        "colab": {
          "base_uri": "https://localhost:8080/"
        },
        "outputId": "579d955b-9660-4ea6-82cf-fbcfa8ae0c6e"
      },
      "source": [
        "train_temp = train\n",
        "\n",
        "# Not sure about if we should use get_dummies\n",
        "train_temp = pd.get_dummies(train_temp, drop_first=False)\n",
        "print(train_temp.shape)\n",
        "# Set X, y \n",
        "X = train_temp.drop(columns=['SalePrice'], axis=1)\n",
        "y = train_temp.SalePrice.values \n",
        "X_train, X_test, y_train, y_test = train_test_split(X, y, test_size=0.2, random_state=21)\n",
        "\n",
        "# Pipeline\n",
        "scaler = StandardScaler()\n",
        "# normalizer = MinMaxScaler()\n",
        "pca = PCA(n_components = 'mle')\n",
        "rf =RandomForestRegressor()\n",
        "xgb = xgb.XGBRegressor()\n",
        "\n",
        "# svr = NuSVR()\n",
        "# svr = SVR()\n",
        "\n",
        "pipe = make_pipeline(scaler, pca, xgb)\n",
        "\n",
        "# Fit and predict\n",
        "pipe.fit(X_train, y_train)\n",
        "y_pred = pipe.predict(X_test)\n",
        "\n",
        "loss = np.sqrt(mean_squared_log_error(y_pred, y_test))\n",
        "print(loss)\n",
        "\n"
      ],
      "execution_count": 319,
      "outputs": [
        {
          "output_type": "stream",
          "name": "stdout",
          "text": [
            "(1451, 405)\n",
            "[09:28:15] WARNING: /workspace/src/objective/regression_obj.cu:152: reg:linear is now deprecated in favor of reg:squarederror.\n",
            "0.17540812540257497\n"
          ]
        }
      ]
    },
    {
      "cell_type": "code",
      "metadata": {
        "colab": {
          "base_uri": "https://localhost:8080/"
        },
        "id": "CfgVuNW6kJY-",
        "outputId": "01e0ce59-bea3-44c3-f1be-b0dfc7e666be"
      },
      "source": [
        "print(train_temp.columns)"
      ],
      "execution_count": 45,
      "outputs": [
        {
          "output_type": "stream",
          "name": "stdout",
          "text": [
            "Index(['LotFrontage', 'LotArea', 'OverallQual', 'OverallCond', 'YearBuilt',\n",
            "       'YearRemodAdd', 'MasVnrArea', 'BsmtFinSF1', 'BsmtFinSF2', 'BsmtUnfSF',\n",
            "       ...\n",
            "       'SaleType_ConLw', 'SaleType_New', 'SaleType_Oth', 'SaleType_WD',\n",
            "       'SaleCondition_Abnorml', 'SaleCondition_AdjLand',\n",
            "       'SaleCondition_Alloca', 'SaleCondition_Family', 'SaleCondition_Normal',\n",
            "       'SaleCondition_Partial'],\n",
            "      dtype='object', length=425)\n"
          ]
        }
      ]
    },
    {
      "cell_type": "markdown",
      "metadata": {
        "id": "XvwIpd8ifALZ"
      },
      "source": [
        "# 5. Submission"
      ]
    },
    {
      "cell_type": "code",
      "metadata": {
        "colab": {
          "base_uri": "https://localhost:8080/"
        },
        "id": "eCS20WBwfC9H",
        "outputId": "44be0f60-a550-4631-a32f-2beca9cd4088"
      },
      "source": [
        "z = test.isna().sum()\n",
        "print(z[z != 0])"
      ],
      "execution_count": 46,
      "outputs": [
        {
          "output_type": "stream",
          "name": "stdout",
          "text": [
            "MSZoning           4\n",
            "LotFrontage      227\n",
            "Alley           1352\n",
            "Utilities          2\n",
            "Exterior1st        1\n",
            "Exterior2nd        1\n",
            "MasVnrType        16\n",
            "MasVnrArea        15\n",
            "BsmtQual          44\n",
            "BsmtCond          45\n",
            "BsmtExposure      44\n",
            "BsmtFinType1      42\n",
            "BsmtFinSF1         1\n",
            "BsmtFinType2      42\n",
            "BsmtFinSF2         1\n",
            "BsmtUnfSF          1\n",
            "TotalBsmtSF        1\n",
            "BsmtFullBath       2\n",
            "BsmtHalfBath       2\n",
            "KitchenQual        1\n",
            "Functional         2\n",
            "FireplaceQu      730\n",
            "GarageType        76\n",
            "GarageYrBlt       78\n",
            "GarageFinish      78\n",
            "GarageCars         1\n",
            "GarageArea         1\n",
            "GarageQual        78\n",
            "GarageCond        78\n",
            "PoolQC          1456\n",
            "Fence           1169\n",
            "MiscFeature     1408\n",
            "SaleType           1\n",
            "dtype: int64\n"
          ]
        }
      ]
    }
  ]
}